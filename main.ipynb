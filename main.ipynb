{
 "cells": [
  {
   "cell_type": "code",
   "execution_count": null,
   "metadata": {},
   "outputs": [],
   "source": [
    "from sklearn.feature_extraction.text import TfidfTransformer, CountVectorizer\n",
    "from sklearn.metrics.pairwise import cosine_similarity\n",
    "import os\n",
    "from nltk.corpus import stopwords\n",
    "from nltk.tokenize import word_tokenize\n",
    "import nltk\n"
   ]
  },
  {
   "cell_type": "code",
   "execution_count": null,
   "metadata": {},
   "outputs": [],
   "source": [
    "folder_path = \"./docs/\"\n",
    "\n",
    "# To handle empty input\n",
    "while True:\n",
    "    try:\n",
    "        query = input(\"Enter your query:\")\n",
    "        if not query.strip():\n",
    "            raise ValueError(\"Query cannot be empty.\")\n",
    "        break\n",
    "    except ValueError as error:\n",
    "        print(f\"Error: {error}\")\n",
    "\n",
    "# Load English stop words\n",
    "stop_words = set(stopwords.words(\"english\"))\n"
   ]
  },
  {
   "cell_type": "code",
   "execution_count": null,
   "metadata": {},
   "outputs": [],
   "source": [
    "documents = []\n",
    "file_paths = []\n",
    "\n",
    "for root, dirs, files in os.walk(folder_path):\n",
    "    for file in files:\n",
    "        if file.endswith(\".txt\"):\n",
    "            file_path = os.path.join(root, file)\n",
    "            with open(file_path, 'r') as f:\n",
    "                document = f.read()\n",
    "                words = word_tokenize(document)\n",
    "                filtered_words = [word.lower() for word in words if word.lower() not in stop_words]\n",
    "                filtered_document = ' '.join(filtered_words)\n",
    "                documents.append(filtered_document)\n",
    "                file_paths.append(file)"
   ]
  },
  {
   "cell_type": "code",
   "execution_count": null,
   "metadata": {},
   "outputs": [],
   "source": [
    "vectorizer = CountVectorizer(lowercase=True)\n",
    "tfidf_transformer = TfidfTransformer()\n",
    "tfidf_matrix = tfidf_transformer.fit_transform(vectorizer.fit_transform(documents))\n",
    "\n",
    "query_words = word_tokenize(query.lower())\n",
    "filtered_query = ' '.join([word for word in query_words if word not in stop_words])\n",
    "query_vector = tfidf_transformer.transform(vectorizer.transform([filtered_query]))\n",
    "\n",
    "similarities = cosine_similarity(tfidf_matrix, query_vector)\n",
    "top_indices = similarities.flatten().argsort()[::-1][:5]"
   ]
  },
  {
   "cell_type": "code",
   "execution_count": 1,
   "metadata": {},
   "outputs": [
    {
     "name": "stdout",
     "output_type": "stream",
     "text": [
      "Top 5 documents most similar to the entered query: Machine\n",
      "\n",
      "Rank 1:\n",
      "Document: doc_2.txt\n",
      "Similarity: 15.32%\n",
      "\n",
      "\n",
      "Rank 2:\n",
      "Document: doc_4.txt\n",
      "Similarity: 13.22%\n",
      "\n",
      "\n",
      "Rank 3:\n",
      "Document: doc_1.txt\n",
      "Similarity: 8.02%\n",
      "\n",
      "\n",
      "Rank 4:\n",
      "Document: doc_5.txt\n",
      "Similarity: 0.00%\n",
      "\n",
      "\n",
      "Rank 5:\n",
      "Document: doc_3.txt\n",
      "Similarity: 0.00%\n",
      "\n",
      "\n"
     ]
    }
   ],
   "source": [
    "print(f\"Top 5 documents most similar to the entered query: {query}\\n\")\n",
    "\n",
    "counter = 1\n",
    "for i, idx in enumerate(top_indices):\n",
    "    print(f\"Rank {counter}:\")\n",
    "    print(\"Document:\", os.path.basename(file_paths[idx]))\n",
    "    print(\"Similarity:\", \"{:.2%}\".format(similarities[idx][0]))\n",
    "    print(\"\\n\")\n",
    "    counter += 1\n",
    "    if counter > 5:\n",
    "        break\n"
   ]
  },
  {
   "cell_type": "code",
   "execution_count": null,
   "metadata": {},
   "outputs": [],
   "source": []
  }
 ],
 "metadata": {
  "kernelspec": {
   "display_name": "Python 3",
   "language": "python",
   "name": "python3"
  },
  "language_info": {
   "codemirror_mode": {
    "name": "ipython",
    "version": 3
   },
   "file_extension": ".py",
   "mimetype": "text/x-python",
   "name": "python",
   "nbconvert_exporter": "python",
   "pygments_lexer": "ipython3",
   "version": "3.11.5"
  }
 },
 "nbformat": 4,
 "nbformat_minor": 2
}
